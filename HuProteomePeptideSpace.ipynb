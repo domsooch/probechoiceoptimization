{
 "cells": [
  {
   "cell_type": "code",
   "execution_count": 1,
   "metadata": {},
   "outputs": [],
   "source": [
    "#!pip install biopython\n",
    "import sys, os, copy, pprint, glob\n",
    "#import pathlib\n",
    "from importlib import reload\n",
    "import pathlib, importlib\n",
    "import csv, fnmatch, random\n",
    "import Bio.Entrez #used by accessions_to_gb\n",
    "from ftplib import FTP\n",
    "from io import StringIO\n",
    "import pandas as pd\n",
    "import numpy as np\n",
    "import matplotlib.pyplot as plt\n",
    "import numpy as np\n",
    "from PIL import Image\n",
    "import pyfastx"
   ]
  },
  {
   "cell_type": "code",
   "execution_count": 2,
   "metadata": {},
   "outputs": [],
   "source": [
    "import utils.BitOperations as B"
   ]
  },
  {
   "cell_type": "markdown",
   "metadata": {},
   "source": [
    "## Import UniProt:  \n",
    "Download One protein per gene\n",
    "https://www.uniprot.org/proteomes/UP000005640"
   ]
  },
  {
   "cell_type": "code",
   "execution_count": 3,
   "metadata": {},
   "outputs": [
    {
     "data": {
      "text/plain": [
       "<Fasta> data/UP000005640_9606.fasta contains 20605 sequences"
      ]
     },
     "execution_count": 3,
     "metadata": {},
     "output_type": "execute_result"
    }
   ],
   "source": [
    "huprot_path=\"data/UP000005640_9606.fasta\"\n",
    "fa_file = pyfastx.Fasta(huprot_path)\n",
    "fa_file"
   ]
  },
  {
   "cell_type": "markdown",
   "metadata": {},
   "source": [
    "## N-mer Generation/Characterization:                         "
   ]
  },
  {
   "cell_type": "code",
   "execution_count": 4,
   "metadata": {},
   "outputs": [],
   "source": [
    "reload(B)\n",
    "B.DEBUG=True\n",
    "class BitMap:\n",
    "    \"\"\"Stores chosen probes and provides universal indexing for peptides mapping to protein bitfields\"\"\"\n",
    "    def __init__(self):\n",
    "        self.d={}\n",
    "        self.n=0\n",
    "        self.LOCK=False\n",
    "    def process_peptide(self, peptide):\n",
    "        for p in peptide.Lst:\n",
    "            if not(p in self.d):self.d[p]=0\n",
    "            self.d[p]+=1\n",
    "    def all_peptide_counts(self):\n",
    "        return list(self.d.items())\n",
    "    def order(self, count_limit=None):\n",
    "        if self.LOCK:\n",
    "            print('BitMap Has been Locked')\n",
    "            return None\n",
    "        lst=list(self.d.items())\n",
    "        lst.sort(key=lambda x:-x[1])\n",
    "        self.Lst=[]\n",
    "        for i in range(len(lst)):\n",
    "            p,n=lst[i]\n",
    "            if count_limit and n<count_limit:break\n",
    "            self.Lst.append(p)\n",
    "        self.n=len(self.Lst)\n",
    "        self.LOCK=True\n",
    "    def write_token_to_bitfield(self, p, bitfield):\n",
    "        #bitfield[self.Lst.index(p)]\n",
    "        if not(p in self.Lst):return -1\n",
    "        try:\n",
    "            x= self.Lst.index(p)\n",
    "            bitfield[self.Lst.index(p)]=1\n",
    "        except:\n",
    "            print('BFOverLimit:self.Lst.index(%s) bitfield sz: %i, idx: %i'%(p, bitfield.max, self.Lst.index(p)))\n",
    "            return self.n\n",
    "    def display(self, limit=10):\n",
    "        print('BitMap: %i '%len(self.Lst))\n",
    "        for i in range(min(limit, self.n)):\n",
    "            p=self.Lst[i]\n",
    "            print('%s\\t%i'%(p, self.d[p]))\n",
    "            \n",
    "class Peptide:\n",
    "    def __init__(self, seq, label, nmer_sz=6):\n",
    "        self.nmer_sz=nmer_sz\n",
    "        self.seq=seq\n",
    "        self.label=label\n",
    "        self.acc=label.split('|')[1]\n",
    "        self.Lst=[]\n",
    "        self.bf=None\n",
    "        self.nmer_tile()\n",
    "    def nmer_tile(self, nmer_sz=None):\n",
    "        nmer_sz= self.nmer_sz if (nmer_sz==None) else nmer_sz\n",
    "        for i in range(0,len(self.seq)-nmer_sz,1):\n",
    "            self.Lst.append(self.seq[i:i+nmer_sz])\n",
    "        self.Lst.sort()\n",
    "    def make_bitfield(self, bit_map):\n",
    "        self.bf=B.BitArray(bit_map.n+1)\n",
    "        for p in self.Lst:\n",
    "            bit_map.write_token_to_bitfield(p, self.bf)\n",
    "    def display(self):\n",
    "        print('acc: %s seq_len: %i, bf_occupancy: %i'%(self.acc, len(self.seq), self.bf.count()))\n",
    "    "
   ]
  },
  {
   "cell_type": "code",
   "execution_count": 5,
   "metadata": {
    "scrolled": true
   },
   "outputs": [
    {
     "name": "stdout",
     "output_type": "stream",
     "text": [
      "BitMap: 101 \n",
      "LLL\t637\n",
      "SSS\t521\n",
      "PPP\t484\n",
      "AAA\t454\n",
      "EEE\t443\n",
      "SSL\t387\n",
      "LPP\t335\n",
      "SLL\t334\n",
      "LEE\t330\n",
      "LLA\t329\n"
     ]
    }
   ],
   "source": [
    "NMER_SZ=3\n",
    "\n",
    "bitmap=BitMap()\n",
    "pLst=[]\n",
    "max_r=1000;i=0\n",
    "for seq in fa_file:\n",
    "    if len(seq.seq)<100:continue\n",
    "    i+=1\n",
    "    name=seq.name;\n",
    "    prefix, acc=name.split('|')[0:2]\n",
    "    if prefix=='tr':continue\n",
    "    pLst.append(Peptide(seq.seq, name, nmer_sz=NMER_SZ))\n",
    "    bitmap.process_peptide(pLst[-1])\n",
    "    if i >max_r:break\n",
    "all_peptide_counts=[p[1] for p in list(bitmap.d.items())]\n",
    "\n",
    "bitmap.order(count_limit=200)\n",
    "bitmap.display()"
   ]
  },
  {
   "cell_type": "code",
   "execution_count": 6,
   "metadata": {
    "scrolled": true
   },
   "outputs": [
    {
     "name": "stdout",
     "output_type": "stream",
     "text": [
      "acc: A6NJT0 seq_len: 531, bf_occupancy: 43\n",
      "725\n"
     ]
    }
   ],
   "source": [
    "#select proteins by size; Compute n-mer embedding\n",
    "protLst=[]\n",
    "for p in pLst:\n",
    "    if 100<len(p.seq)<800:\n",
    "        p.make_bitfield(bitmap)\n",
    "        protLst.append(p)\n",
    "        if random.random()<0.001:p.display()\n",
    "print(len(protLst))"
   ]
  },
  {
   "cell_type": "code",
   "execution_count": 7,
   "metadata": {},
   "outputs": [
    {
     "data": {
      "image/png": "[encoded data removed]",
      "text/plain": [
       "<Figure size 864x216 with 3 Axes>"
      ]
     },
     "metadata": {},
     "output_type": "display_data"
    }
   ],
   "source": [
    "plt.figure(figsize=(12, 3))\n",
    "\n",
    "axs=plt.subplot(131)\n",
    "plt.title(\"Histogram of Peptide(Probe) Prevalence\")\n",
    "axs.hist(all_peptide_counts, bins=100, range=(0,1000))\n",
    "\n",
    "axs=plt.subplot(132)\n",
    "plt.title(\"Histogram of Protein Sequence Length\")\n",
    "axs.hist([len(p.seq) for p in pLst], bins=100, range=(0,1500))\n",
    "\n",
    "axs=plt.subplot(133)\n",
    "plt.title(\"Histogram of peptide hits for each Protein\")\n",
    "axs.hist([p.bf.count() for p in protLst], bins=20, range=(0,500))\n",
    "plt.show()"
   ]
  },
  {
   "cell_type": "code",
   "execution_count": 8,
   "metadata": {},
   "outputs": [
    {
     "name": "stdout",
     "output_type": "stream",
     "text": [
      "sp|A8K5M9|CO062_HUMAN 2 102 128 17 17\n",
      "725\n"
     ]
    }
   ],
   "source": [
    "iLst=[];plotLst=[]\n",
    "protLst.sort(key=lambda x:-x.bf.count())\n",
    "for p in protLst:\n",
    "    row=[int(x) for x in list(p.bf.bin_str())]\n",
    "    if random.random()<0.001:print(p.label, p.bf.array_sz, p.bf.max, len(row), p.bf.count(), len(p.bf.export_bit_idxLst()))\n",
    "    iLst.append([p.label] + row)\n",
    "    plotLst.append(row)\n",
    "bf_img=np.array(iLst)\n",
    "print(len(iLst))\n",
    "img = Image.fromarray(bf_img, mode='1')\n",
    "img.save('bf_img.jpg', format='JPEG', subsampling=0, quality=100)\n",
    "LL=[N for N in bitmap.Lst]\n",
    "extra_spacers=len(row)-len(LL)\n",
    "LL=['seq_name']+LL+list(range(extra_spacers))\n",
    "df = pd.DataFrame(iLst, columns=LL)\n",
    "df.to_csv('hitmap.csv')"
   ]
  },
  {
   "cell_type": "code",
   "execution_count": 9,
   "metadata": {},
   "outputs": [
    {
     "data": {
      "text/plain": [
       "[Text(30.5,0.5,'Protein_subset'), Text(0.5,12.5,'Peptide n-mers')]"
      ]
     },
     "execution_count": 9,
     "metadata": {},
     "output_type": "execute_result"
    },
    {
     "data": {
      "image/png": "[encoded data removed]",
      "text/plain": [
       "<Figure size 432x288 with 2 Axes>"
      ]
     },
     "metadata": {},
     "output_type": "display_data"
    }
   ],
   "source": [
    "import seaborn as sns; sns.set()\n",
    "\n",
    "plt.show()\n",
    "ax = sns.heatmap([p[:] for p in plotLst])\n",
    "plt.title(\"Peptide Hit Bitfields\")\n",
    "ax.set(xlabel='Peptide n-mers', ylabel='Protein_subset')"
   ]
  },
  {
   "cell_type": "code",
   "execution_count": 10,
   "metadata": {},
   "outputs": [
    {
     "data": {
      "text/plain": [
       "[Text(30.5,0.5,'Protein_idx'), Text(0.5,12.5,'Protein_idx')]"
      ]
     },
     "execution_count": 10,
     "metadata": {},
     "output_type": "execute_result"
    },
    {
     "data": {
      "image/png": "[encoded data removed]",
      "text/plain": [
       "<Figure size 432x288 with 2 Axes>"
      ]
     },
     "metadata": {},
     "output_type": "display_data"
    }
   ],
   "source": [
    "#dissimilarityMatrix\n",
    "NumSeqs=90;pairLst=[]\n",
    "DM=[[0 for x in range(NumSeqs)] for x in range(NumSeqs)]\n",
    "for i in range(NumSeqs):\n",
    "    a=protLst[i]\n",
    "    for j in range(i, NumSeqs, 1):\n",
    "        b=protLst[j]\n",
    "        d=(a.bf)^(b.bf)\n",
    "        DM[i][j]=d.count()\n",
    "        pairLst.append([i,j,DM[i][j]])\n",
    "pairLst.sort(key=lambda x:x[-1])\n",
    "plt.show()\n",
    "ax = sns.heatmap(DM)\n",
    "plt.title(\"Protein Dissimilarity Matrix\")\n",
    "ax.set(xlabel='Protein_idx', ylabel='Protein_idx') "
   ]
  },
  {
   "cell_type": "code",
   "execution_count": 11,
   "metadata": {},
   "outputs": [
    {
     "data": {
      "image/png": "[encoded data removed]",
      "text/plain": [
       "<Figure size 432x288 with 1 Axes>"
      ]
     },
     "metadata": {},
     "output_type": "display_data"
    }
   ],
   "source": [
    "fig, axs = plt.subplots(tight_layout=False)\n",
    "plt.title(\"Histogram of Dissimilarity\")\n",
    "yo=axs.hist([p[-1] for p in pairLst], bins=20, range=(0,200))"
   ]
  },
  {
   "cell_type": "markdown",
   "metadata": {},
   "source": [
    "## Probe Choice"
   ]
  },
  {
   "cell_type": "code",
   "execution_count": 16,
   "metadata": {},
   "outputs": [],
   "source": [
    "import multiprocessing as mp\n",
    "from contextlib import closing\n",
    " \n",
    "def chooseMostPrevalentProbe(probeLst, probe_bitmap, randomize=True):\n",
    "    number_Lst=[probe_bitmap.d[probe] for probe in probeLst]\n",
    "    if randomize:\n",
    "        n_sum=sum(number_Lst)\n",
    "        r=int(random.random()*n_sum)\n",
    "        for i in range(len(number_Lst)):\n",
    "            r-=number_Lst[i]\n",
    "            if r<0:break\n",
    "        return probeLst[i]\n",
    "    else:\n",
    "        return probeLst[np.argmax(number_Lst)]\n",
    "    \n",
    "    \n",
    "def GenerateProbeSetBF(probeLst, probe_bitmap):\n",
    "    probeset_bf=B.BitArray(probe_bitmap.n+1)\n",
    "    for probe in probeLst:\n",
    "        probe_idx=probe_bitmap.Lst.index(probe)\n",
    "        probeset_bf[probe_idx]=1\n",
    "    return probeset_bf\n",
    "\n",
    "def ComputeProteinClusters(proteinLst, probeset_bf):\n",
    "    \"\"\"This function computes the number of clusters \n",
    "    given a set of proteins and choice of probes\"\"\"\n",
    "    proteinprobehit_bfLst=[]\n",
    "    dedup_dict={}\n",
    "    for protein in proteinLst:\n",
    "        pap=protein.bf&probeset_bf\n",
    "        bstr=pap.bin_str()\n",
    "        if not bstr in dedup_dict:dedup_dict[bstr]=0\n",
    "        dedup_dict[bstr]+=1\n",
    "        proteinprobehit_bfLst.append(pap)\n",
    "    return len(dedup_dict)\n",
    "\n",
    "    \n",
    "def ComputeProteinClusters_DoesNotWork(proteinLst, probeset_bf):\n",
    "    #ToDo: fin efficient/correct way to sort bitfields \n",
    "    \"\"\"This function computes the number of clusters \n",
    "    given a set of proteins and choice of probes\"\"\"\n",
    "    proteinprobehit_bfLst=[]\n",
    "    for protein in proteinLst:\n",
    "        pap=protein.bf&probeset_bf\n",
    "        proteinprobehit_bfLst.append(pap)\n",
    "    #dedupe rec count\n",
    "    proteinprobehit_bfLst.sort()\n",
    "    current_rec=proteinprobehit_bfLst[0]\n",
    "    cluster_count=1\n",
    "    for rec in proteinprobehit_bfLst:\n",
    "        if rec!=current_rec:\n",
    "            cluster_count+=1\n",
    "            current_rec=rec\n",
    "    return cluster_count\n",
    "\n",
    "def ChoiceCycle(proteinLst, probe_bitmap, probeLst, choice_window=0):\n",
    "    #Computes info gain for each remaining probe\n",
    "    probeset_bf=GenerateProbeSetBF(probeLst, probe_bitmap)\n",
    "    probe_choiceLst=[]\n",
    "    for probe in probe_bitmap.Lst:\n",
    "        if (probe in probeLst):continue\n",
    "        probe_idx=probe_bitmap.Lst.index(probe)\n",
    "        if probeset_bf[probe_idx]:continue\n",
    "        probeset_bf[probe_idx]=1\n",
    "        cluster_count, proteinprobehit_bfLst= ComputeProteinClusters(proteinLst, probeset_bf)\n",
    "        probe_choiceLst.append([cluster_count, probe])\n",
    "        probeset_bf[probe_idx]=0\n",
    "    probe_choiceLst.sort(key=lambda x:-x[0])\n",
    "    top_num_clusters=probe_choiceLst[0][0]\n",
    "    choiceLst=[]\n",
    "    for i in range(len(probe_choiceLst)):\n",
    "        c=probe_choiceLst[i]\n",
    "        if top_num_clusters-c[0]>=choice_window:\n",
    "            choiceLst.append(c)\n",
    "        else:\n",
    "            break\n",
    "    print('ChoiceCycle:probe_choiceLst:%i choiceLst:%i top_num_clusters:%i'%(len(probe_choiceLst),len(choiceLst), top_num_clusters))\n",
    "    return choiceLst\n",
    "\n",
    "def compute_protein_clusters_Runner(t):\n",
    "    #For multiprocessing\n",
    "    proteinLst, probeset_bf, probe_idx, probe = t\n",
    "    probeset_bf[probe_idx]=1\n",
    "    cluster_count= ComputeProteinClusters(proteinLst, probeset_bf)\n",
    "    return [cluster_count, probe]\n",
    "    \n",
    "def ChoiceCycle_mp(proteinLst, probe_bitmap, probeLst, choice_window=0, num_ranks=12):\n",
    "    #Computes info gain for each remaining probe\n",
    "    #Multiprocessing version of ChoiceCycle\n",
    "    probeset_bf=GenerateProbeSetBF(probeLst, probe_bitmap)\n",
    "    probe_choiceLst=[]\n",
    "    processingLst=[]\n",
    "    for probe in probe_bitmap.Lst:\n",
    "        if (probe in probeLst):continue\n",
    "        probe_idx=probe_bitmap.Lst.index(probe)\n",
    "        if probeset_bf[probe_idx]:continue\n",
    "        processingLst.append([proteinLst, probeset_bf.copy(), probe_idx, probe])\n",
    "    with closing( mp.Pool(num_ranks) ) as p:\n",
    "        probe_choiceLst=p.map(compute_protein_clusters_Runner, processingLst)\n",
    "    probe_choiceLst.sort(key=lambda x:-x[0])\n",
    "    top_num_clusters=probe_choiceLst[0][0]\n",
    "    choiceLst=[]\n",
    "    for i in range(len(probe_choiceLst)):\n",
    "        c=probe_choiceLst[i]\n",
    "        if top_num_clusters-c[0]>=choice_window:\n",
    "            choiceLst.append(c)\n",
    "        else:\n",
    "            break\n",
    "    print('ChoiceCycle:probe_choiceLst:%i choiceLst:%i top_num_clusters:%i'%(len(probe_choiceLst),len(choiceLst), top_num_clusters))\n",
    "    #print(choiceLst)\n",
    "    return choiceLst"
   ]
  },
  {
   "cell_type": "markdown",
   "metadata": {},
   "source": [
    "## Choice Routine:"
   ]
  },
  {
   "cell_type": "code",
   "execution_count": 17,
   "metadata": {
    "scrolled": true
   },
   "outputs": [
    {
     "name": "stdout",
     "output_type": "stream",
     "text": [
      "ChoiceCycle:probe_choiceLst:100 choiceLst:100 top_num_clusters:4\n",
      "1 4 100 SSS\n",
      "ChoiceCycle:probe_choiceLst:99 choiceLst:99 top_num_clusters:8\n",
      "2 8 99 PPP\n",
      "ChoiceCycle:probe_choiceLst:98 choiceLst:98 top_num_clusters:16\n",
      "3 16 98 AAA\n",
      "ChoiceCycle:probe_choiceLst:97 choiceLst:97 top_num_clusters:32\n",
      "4 31 97 EEE\n",
      "ChoiceCycle:probe_choiceLst:96 choiceLst:96 top_num_clusters:59\n",
      "5 57 96 SSL\n",
      "ChoiceCycle:probe_choiceLst:95 choiceLst:95 top_num_clusters:96\n",
      "6 92 95 LPP\n",
      "ChoiceCycle:probe_choiceLst:94 choiceLst:94 top_num_clusters:141\n",
      "7 140 94 SLL\n",
      "ChoiceCycle:probe_choiceLst:93 choiceLst:93 top_num_clusters:194\n",
      "8 186 93 LEE\n",
      "ChoiceCycle:probe_choiceLst:92 choiceLst:92 top_num_clusters:239\n",
      "9 238 92 LLA\n",
      "ChoiceCycle:probe_choiceLst:91 choiceLst:91 top_num_clusters:289\n",
      "10 283 91 LLG\n",
      "ChoiceCycle:probe_choiceLst:90 choiceLst:90 top_num_clusters:334\n",
      "11 316 90 LLE\n",
      "ChoiceCycle:probe_choiceLst:89 choiceLst:89 top_num_clusters:359\n",
      "12 352 89 ALL\n",
      "ChoiceCycle:probe_choiceLst:88 choiceLst:88 top_num_clusters:389\n",
      "13 378 88 PPS\n",
      "ChoiceCycle:probe_choiceLst:87 choiceLst:87 top_num_clusters:415\n",
      "14 409 87 SLS\n",
      "ChoiceCycle:probe_choiceLst:86 choiceLst:86 top_num_clusters:446\n",
      "15 436 86 LLS\n",
      "ChoiceCycle:probe_choiceLst:85 choiceLst:85 top_num_clusters:470\n",
      "16 470 85 LSS\n",
      "ChoiceCycle:probe_choiceLst:84 choiceLst:84 top_num_clusters:498\n",
      "17 487 84 LGL\n",
      "ChoiceCycle:probe_choiceLst:83 choiceLst:83 top_num_clusters:513\n",
      "18 506 83 LSL\n",
      "ChoiceCycle:probe_choiceLst:82 choiceLst:82 top_num_clusters:530\n",
      "19 516 82 PLP\n",
      "ChoiceCycle:probe_choiceLst:81 choiceLst:81 top_num_clusters:538\n",
      "20 527 81 ERL\n",
      "ChoiceCycle:probe_choiceLst:80 choiceLst:80 top_num_clusters:547\n",
      "21 536 80 PSP\n",
      "ChoiceCycle:probe_choiceLst:79 choiceLst:79 top_num_clusters:555\n",
      "22 539 79 QEE\n",
      "ChoiceCycle:probe_choiceLst:78 choiceLst:78 top_num_clusters:558\n",
      "23 551 78 AAL\n",
      "ChoiceCycle:probe_choiceLst:77 choiceLst:77 top_num_clusters:569\n",
      "24 560 77 LAA\n",
      "ChoiceCycle:probe_choiceLst:76 choiceLst:76 top_num_clusters:577\n",
      "25 567 76 RLL\n",
      "ChoiceCycle:probe_choiceLst:75 choiceLst:75 top_num_clusters:584\n",
      "26 573 75 GLL\n",
      "ChoiceCycle:probe_choiceLst:74 choiceLst:74 top_num_clusters:589\n",
      "27 581 74 QLL\n",
      "ChoiceCycle:probe_choiceLst:73 choiceLst:73 top_num_clusters:597\n",
      "28 591 73 SGS\n",
      "ChoiceCycle:probe_choiceLst:72 choiceLst:72 top_num_clusters:605\n",
      "29 598 72 ELL\n",
      "ChoiceCycle:probe_choiceLst:71 choiceLst:71 top_num_clusters:612\n",
      "30 602 71 PAP\n",
      "ChoiceCycle:probe_choiceLst:70 choiceLst:70 top_num_clusters:616\n",
      "31 608 70 PLL\n",
      "ChoiceCycle:probe_choiceLst:69 choiceLst:69 top_num_clusters:622\n",
      "32 612 69 GEK\n",
      "ChoiceCycle:probe_choiceLst:68 choiceLst:68 top_num_clusters:626\n",
      "33 615 68 LAL\n",
      "ChoiceCycle:probe_choiceLst:67 choiceLst:67 top_num_clusters:629\n",
      "34 619 67 LEL\n",
      "ChoiceCycle:probe_choiceLst:66 choiceLst:66 top_num_clusters:634\n",
      "35 622 66 PSS\n",
      "ChoiceCycle:probe_choiceLst:65 choiceLst:65 top_num_clusters:637\n",
      "36 624 65 EEL\n",
      "ChoiceCycle:probe_choiceLst:64 choiceLst:64 top_num_clusters:638\n",
      "37 628 64 SPS\n",
      "ChoiceCycle:probe_choiceLst:63 choiceLst:63 top_num_clusters:641\n",
      "No more optimization is possible\n",
      "['LLL', 'SSS', 'PPP', 'AAA', 'EEE', 'SSL', 'LPP', 'SLL', 'LEE', 'LLA', 'LLG', 'LLE', 'ALL', 'PPS', 'SLS', 'LLS', 'LSS', 'LGL', 'LSL', 'PLP', 'ERL', 'PSP', 'QEE', 'AAL', 'LAA', 'RLL', 'GLL', 'QLL', 'SGS', 'ELL', 'PAP', 'PLL', 'GEK', 'LAL', 'LEL', 'PSS', 'EEL', 'SPS']\n"
     ]
    }
   ],
   "source": [
    "probe_bitmap=bitmap\n",
    "RND_CHOICE=False;NUM_RANKS=12\n",
    "probeLst=[chooseMostPrevalentProbe(probe_bitmap.Lst, probe_bitmap, randomize=RND_CHOICE)]\n",
    "cycleLst=[];cycleLL=['cycle', 'num_clusters', 'num_choice_possibilities', 'probeSet']\n",
    "discernible_clusters=0;clusters_to_discern=len(protLst)\n",
    "cycle=0;previous_discernible_clusters=0\n",
    "while discernible_clusters < clusters_to_discern:\n",
    "    cycle+=1\n",
    "    choiceLst=ChoiceCycle_mp(protLst, bitmap, probeLst, choice_window=0, num_ranks=NUM_RANKS)\n",
    "    prLst=[c[1] for c in choiceLst]\n",
    "    probe=chooseMostPrevalentProbe(prLst, probe_bitmap, randomize=RND_CHOICE)\n",
    "    choice_idx=prLst.index(probe)\n",
    "    #Choose first of equals You can also choose randomly or choose from within choice_window range\n",
    "    num_clusters,probe =choiceLst[choice_idx]\n",
    "    if num_clusters>discernible_clusters:\n",
    "        probeLst.append(probe)\n",
    "        cycleLst.append([cycle, num_clusters, len(choiceLst), '|'.join(probeLst)])\n",
    "        discernible_clusters=num_clusters\n",
    "        print(cycle, num_clusters, len(choiceLst), probe)\n",
    "    else:\n",
    "        print('No more optimization is possible')\n",
    "        break\n",
    "    \n",
    "print(probeLst)"
   ]
  },
  {
   "cell_type": "code",
   "execution_count": 22,
   "metadata": {},
   "outputs": [
    {
     "data": {
      "image/png": "[encoded data removed]",
      "text/plain": [
       "<Figure size 432x288 with 1 Axes>"
      ]
     },
     "metadata": {},
     "output_type": "display_data"
    }
   ],
   "source": [
    "out_dir=\"./\"\n",
    "clst=[[r[0], r[1], len(r[3].split('|'))] for r in cycleLst]\n",
    "df=pd.DataFrame(clst, columns=['cycle',\n",
    "                                'num_clusters', \n",
    "                                'num_probes'])\n",
    "df.to_csv(out_dir+'choice_cycle_run.csv')\n",
    "\n",
    "plt.plot(list(range(len(clst))), [c[1] for c in clst])\n",
    "plt.title(\"Resolution by Choice Cycle\")\n",
    "\n",
    "plt.xlabel('Cycle/Probes Chosen')\n",
    "plt.ylabel('Resolution (clusters)')\n",
    "plt.show()"
   ]
  },
  {
   "cell_type": "markdown",
   "metadata": {},
   "source": [
    "## Protein Digestion:  \n",
    "\n",
    "https://pyopenms.readthedocs.io/en/latest/installation.html  \n",
    "\n",
    "https://readthedocs.org/projects/pyopenms/downloads/pdf/release_2.4.0/"
   ]
  },
  {
   "cell_type": "code",
   "execution_count": 20,
   "metadata": {},
   "outputs": [],
   "source": [
    "from pyopenms import *\n",
    "\n",
    "p=ProteaseDB()\n",
    "n=[]\n",
    "p.getAllNames(n)\n",
    "\n",
    "def digest(enz, fa_file, rngLst=[0, 50, 100, 150, 200, 250, 300, 400, 500, 1000, 2000]):\n",
    "    dig.setEnzyme(enz)\n",
    "    size_dict={}\n",
    "    fa = pyfastx.Fasta(huprot_path)\n",
    "    oLst=[]\n",
    "    for seq in fa_file:\n",
    "        result = []\n",
    "        s=seq.seq;name=seq.name;\n",
    "        prefix, acc=name.split('|')[0:2]\n",
    "        if prefix=='tr':continue\n",
    "        dig.digest(AASequence.fromString(s), result)\n",
    "        result=[r.toString() for r in result]\n",
    "        print(name, len(result), end='\\r')\n",
    "        for i in range(len(rngLst)-1):\n",
    "            min_sz=rngLst[i];max_sz=rngLst[i+1]\n",
    "            mami='%i_%i'%(min_sz, max_sz)\n",
    "            if not(mami in size_dict):size_dict[mami]={}\n",
    "            l=list(filter(lambda x:min_sz<=len(x)<max_sz, result))\n",
    "            if l:\n",
    "                size_dict[mami][acc]=l\n",
    "    return size_dict"
   ]
  },
  {
   "cell_type": "code",
   "execution_count": 24,
   "metadata": {},
   "outputs": [
    {
     "name": "stdout",
     "output_type": "stream",
     "text": [
      "b'Asp-N/B'\n",
      "sp|W6CW81|PYDC5_HUMAN 73011538 317754747935492321199 83258 613 27 32 1213815 372636 4751 2646 512 1523 411799 539 1240 1517 89\r"
     ]
    },
    {
     "data": {
      "text/html": [
       "<div>\n",
       "<style scoped>\n",
       "    .dataframe tbody tr th:only-of-type {\n",
       "        vertical-align: middle;\n",
       "    }\n",
       "\n",
       "    .dataframe tbody tr th {\n",
       "        vertical-align: top;\n",
       "    }\n",
       "\n",
       "    .dataframe thead th {\n",
       "        text-align: right;\n",
       "    }\n",
       "</style>\n",
       "<table border=\"1\" class=\"dataframe\">\n",
       "  <thead>\n",
       "    <tr style=\"text-align: right;\">\n",
       "      <th></th>\n",
       "      <th>enz</th>\n",
       "      <th>size_range</th>\n",
       "      <th>num_proteins</th>\n",
       "      <th>avg_frags</th>\n",
       "      <th>stdev_frags</th>\n",
       "    </tr>\n",
       "  </thead>\n",
       "  <tbody>\n",
       "    <tr>\n",
       "      <th>0</th>\n",
       "      <td>b'Asp-N/B'</td>\n",
       "      <td>50_200</td>\n",
       "      <td>16922</td>\n",
       "      <td>2.847358</td>\n",
       "      <td>2.723181</td>\n",
       "    </tr>\n",
       "  </tbody>\n",
       "</table>\n",
       "</div>"
      ],
      "text/plain": [
       "          enz size_range  num_proteins  avg_frags  stdev_frags\n",
       "0  b'Asp-N/B'     50_200         16922   2.847358     2.723181"
      ]
     },
     "execution_count": 24,
     "metadata": {},
     "output_type": "execute_result"
    }
   ],
   "source": [
    "huprot_path=\"/tdata2/human_proteome/UP000005640_9606.fasta\"\n",
    "\n",
    "dig = ProteaseDigestion()\n",
    "oLst=[];LL=['enz', 'size_range', 'num_proteins', 'avg_frags', 'stdev_frags']\n",
    "\n",
    "enz_names=[\n",
    "    b'Trypsin',\n",
    "         b'Clostripain/P',\n",
    "         b'Glu-C+P',\n",
    "         b'TrypChymo',\n",
    "         b'Arg-C/P',\n",
    "         b'V8-E',\n",
    "         b'Chymotrypsin',\n",
    "         b'elastase-trypsin-chymotrypsin',\n",
    "         b'staphylococcal protease/D',\n",
    "         b'Trypsin/P',\n",
    "         #b'unspecific cleavage',\n",
    "         b'Chymotrypsin/P',\n",
    "         b'proline-endopeptidase/HKR',\n",
    "         b'PepsinA + P',\n",
    "         b'cyanogen-bromide',\n",
    "         #b'CNBr',\n",
    "         b'V8-DE',\n",
    "         b'Lys-C/P',\n",
    "         b'leukocyte elastase',\n",
    "         b'proline endopeptidase',\n",
    "         b'glutamyl endopeptidase',\n",
    "         b'Alpha-lytic protease',\n",
    "         b'2-iodobenzoate',\n",
    "         b'iodosobenzoate',\n",
    "         b'Arg-C',\n",
    "         b'Asp-N/B',\n",
    "         b'Lys-C',\n",
    "         b'PepsinA',\n",
    "         b'Asp-N_ambic',\n",
    "         b'Lys-N',\n",
    "         b'Formic_acid',\n",
    "         b'Asp-N',\n",
    "         #b'no cleavage'\n",
    "          ]\n",
    "\n",
    "enz_names=[\n",
    "    b'Asp-N/B'#,b'CNBr',\n",
    "]\n",
    "#p.getAllNames(enz_names)\n",
    "rngLst=[50, 200]#[0, 50, 100, 150, 200, 250, 300, 400, 500, 1000, 2000])\n",
    "for enz in enz_names:\n",
    "    print(enz)\n",
    "    dig.setEnzyme(enz)\n",
    "    size_dict=digest(enz, fa_file, rngLst=rngLst)\n",
    "    for i in range(len(rngLst)-1):\n",
    "        min_sz=rngLst[i];max_sz=rngLst[i+1]\n",
    "        mami='%i_%i'%(min_sz, max_sz)\n",
    "        clst = np.array([len(size_dict[mami][k]) for k in size_dict[mami].keys()])\n",
    "        oLst.append([enz, mami, len(size_dict[mami]), clst.mean(), clst.std()])\n",
    "df = pd.DataFrame(oLst, columns=LL)\n",
    "enz_str=str(enz).replace(' ','').replace('/', '-').replace('+','plus').replace(\"'\", '')[1:]\n",
    "df.to_csv('all_digestions50-200.csv')\n",
    "df"
   ]
  },
  {
   "cell_type": "code",
   "execution_count": 27,
   "metadata": {},
   "outputs": [
    {
     "data": {
      "image/png": "[encoded data removed]",
      "text/plain": [
       "<Figure size 432x288 with 1 Axes>"
      ]
     },
     "metadata": {},
     "output_type": "display_data"
    }
   ],
   "source": [
    "import seaborn as sns\n",
    "\n",
    "fragLst=[]\n",
    "for k in size_dict[mami].keys():\n",
    "    fragLst.extend([len(x) for x in size_dict[mami][k]])\n",
    "sns.set(style=\"whitegrid\")\n",
    "ax = sns.violinplot(x=fragLst)"
   ]
  },
  {
   "cell_type": "code",
   "execution_count": null,
   "metadata": {},
   "outputs": [],
   "source": []
  }
 ],
 "metadata": {
  "kernelspec": {
   "display_name": "Python 3",
   "language": "python",
   "name": "python3"
  },
  "language_info": {
   "codemirror_mode": {
    "name": "ipython",
    "version": 3
   },
   "file_extension": ".py",
   "mimetype": "text/x-python",
   "name": "python",
   "nbconvert_exporter": "python",
   "pygments_lexer": "ipython3",
   "version": "3.5.5"
  }
 },
 "nbformat": 4,
 "nbformat_minor": 2
}
